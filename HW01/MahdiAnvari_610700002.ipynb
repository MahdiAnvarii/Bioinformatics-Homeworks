{
 "cells": [
  {
   "cell_type": "code",
   "execution_count": 1,
   "id": "9c4d292e-421c-4686-b3d0-89397532a15b",
   "metadata": {},
   "outputs": [],
   "source": [
    "# Mahdi Anvari 610700002\n",
    "# Bioinformatics first homework"
   ]
  },
  {
   "cell_type": "markdown",
   "id": "150caf8b-dc5f-419f-a42d-a1bd0911ac9e",
   "metadata": {},
   "source": [
    "# Question\n",
    "\n",
    "![Question](C:/Users/M/Desktop/bh1q1.png)"
   ]
  },
  {
   "cell_type": "markdown",
   "id": "e9a09ad3-e422-4760-b75c-2ec33f54e9fe",
   "metadata": {},
   "source": [
    "# Answer\n",
    "\n",
    "![Answer](C:/Users/M/Desktop/bh1a1.jpg)"
   ]
  }
 ],
 "metadata": {
  "kernelspec": {
   "display_name": "Python 3 (ipykernel)",
   "language": "python",
   "name": "python3"
  },
  "language_info": {
   "codemirror_mode": {
    "name": "ipython",
    "version": 3
   },
   "file_extension": ".py",
   "mimetype": "text/x-python",
   "name": "python",
   "nbconvert_exporter": "python",
   "pygments_lexer": "ipython3",
   "version": "3.10.0"
  }
 },
 "nbformat": 4,
 "nbformat_minor": 5
}
