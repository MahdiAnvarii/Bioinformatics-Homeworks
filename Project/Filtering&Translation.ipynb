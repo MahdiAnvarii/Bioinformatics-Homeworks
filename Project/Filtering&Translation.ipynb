{
 "cells": [
  {
   "cell_type": "markdown",
   "id": "fabd40bd-630d-44e6-abd3-8483b34c93ab",
   "metadata": {},
   "source": [
    "# Filtering and Translation\n",
    "\n",
    "\n",
    "__Content creators:__  Mahdi Anvari, Sadegh Rizi, Amirhossein Norouzi\n",
    "\n",
    "**University of Tehran, Department of Biotechnology**"
   ]
  },
  {
   "cell_type": "code",
   "execution_count": 1,
   "id": "bbce1621-1feb-437a-a732-87147ff707a9",
   "metadata": {},
   "outputs": [],
   "source": [
    "import pandas as pd\n",
    "import numpy as np\n",
    "from Bio.Seq import Seq"
   ]
  },
  {
   "cell_type": "code",
   "execution_count": 2,
   "id": "8df5f164-0330-4c4e-be69-5a6c5c6965df",
   "metadata": {},
   "outputs": [],
   "source": [
    "tblastn_output = pd.read_csv(\"tblastn_result.out\",sep='\\t', header=None)\n",
    "\n",
    "tblastn_output.columns = [\n",
    "    'query id', 'subject id', '% identity', 'alignment length', 'mismatches', 'gap opens',\n",
    "    'q. start', 'q. end', 's. start', 's. end', 'e-value', 'bit score'\n",
    "]"
   ]
  },
  {
   "cell_type": "code",
   "execution_count": 3,
   "id": "35a6ade8-b962-4ddf-b988-ff9540a42f00",
   "metadata": {},
   "outputs": [
    {
     "data": {
      "text/html": [
       "<div>\n",
       "<style scoped>\n",
       "    .dataframe tbody tr th:only-of-type {\n",
       "        vertical-align: middle;\n",
       "    }\n",
       "\n",
       "    .dataframe tbody tr th {\n",
       "        vertical-align: top;\n",
       "    }\n",
       "\n",
       "    .dataframe thead th {\n",
       "        text-align: right;\n",
       "    }\n",
       "</style>\n",
       "<table border=\"1\" class=\"dataframe\">\n",
       "  <thead>\n",
       "    <tr style=\"text-align: right;\">\n",
       "      <th></th>\n",
       "      <th>query id</th>\n",
       "      <th>subject id</th>\n",
       "      <th>% identity</th>\n",
       "      <th>alignment length</th>\n",
       "      <th>mismatches</th>\n",
       "      <th>gap opens</th>\n",
       "      <th>q. start</th>\n",
       "      <th>q. end</th>\n",
       "      <th>s. start</th>\n",
       "      <th>s. end</th>\n",
       "      <th>e-value</th>\n",
       "      <th>bit score</th>\n",
       "    </tr>\n",
       "  </thead>\n",
       "  <tbody>\n",
       "    <tr>\n",
       "      <th>0</th>\n",
       "      <td>pir||A44594</td>\n",
       "      <td>k141_107880</td>\n",
       "      <td>48.691</td>\n",
       "      <td>191</td>\n",
       "      <td>85</td>\n",
       "      <td>5</td>\n",
       "      <td>6</td>\n",
       "      <td>187</td>\n",
       "      <td>586</td>\n",
       "      <td>26</td>\n",
       "      <td>8.890000e-50</td>\n",
       "      <td>166.0</td>\n",
       "    </tr>\n",
       "    <tr>\n",
       "      <th>1</th>\n",
       "      <td>pir||A44594</td>\n",
       "      <td>k141_3922551</td>\n",
       "      <td>47.120</td>\n",
       "      <td>191</td>\n",
       "      <td>88</td>\n",
       "      <td>5</td>\n",
       "      <td>6</td>\n",
       "      <td>187</td>\n",
       "      <td>177</td>\n",
       "      <td>737</td>\n",
       "      <td>3.020000e-47</td>\n",
       "      <td>161.0</td>\n",
       "    </tr>\n",
       "    <tr>\n",
       "      <th>2</th>\n",
       "      <td>pir||A44594</td>\n",
       "      <td>k141_3299547</td>\n",
       "      <td>46.316</td>\n",
       "      <td>190</td>\n",
       "      <td>89</td>\n",
       "      <td>5</td>\n",
       "      <td>7</td>\n",
       "      <td>187</td>\n",
       "      <td>779</td>\n",
       "      <td>222</td>\n",
       "      <td>1.430000e-46</td>\n",
       "      <td>160.0</td>\n",
       "    </tr>\n",
       "    <tr>\n",
       "      <th>3</th>\n",
       "      <td>pir||A44594</td>\n",
       "      <td>k141_7053183</td>\n",
       "      <td>45.789</td>\n",
       "      <td>190</td>\n",
       "      <td>90</td>\n",
       "      <td>5</td>\n",
       "      <td>7</td>\n",
       "      <td>187</td>\n",
       "      <td>632</td>\n",
       "      <td>75</td>\n",
       "      <td>9.290000e-46</td>\n",
       "      <td>158.0</td>\n",
       "    </tr>\n",
       "    <tr>\n",
       "      <th>4</th>\n",
       "      <td>pir||A44594</td>\n",
       "      <td>k141_3016448</td>\n",
       "      <td>47.027</td>\n",
       "      <td>185</td>\n",
       "      <td>89</td>\n",
       "      <td>4</td>\n",
       "      <td>11</td>\n",
       "      <td>188</td>\n",
       "      <td>142</td>\n",
       "      <td>690</td>\n",
       "      <td>2.060000e-45</td>\n",
       "      <td>155.0</td>\n",
       "    </tr>\n",
       "  </tbody>\n",
       "</table>\n",
       "</div>"
      ],
      "text/plain": [
       "      query id    subject id  % identity  alignment length  mismatches  \\\n",
       "0  pir||A44594   k141_107880      48.691               191          85   \n",
       "1  pir||A44594  k141_3922551      47.120               191          88   \n",
       "2  pir||A44594  k141_3299547      46.316               190          89   \n",
       "3  pir||A44594  k141_7053183      45.789               190          90   \n",
       "4  pir||A44594  k141_3016448      47.027               185          89   \n",
       "\n",
       "   gap opens  q. start  q. end  s. start  s. end       e-value  bit score  \n",
       "0          5         6     187       586      26  8.890000e-50      166.0  \n",
       "1          5         6     187       177     737  3.020000e-47      161.0  \n",
       "2          5         7     187       779     222  1.430000e-46      160.0  \n",
       "3          5         7     187       632      75  9.290000e-46      158.0  \n",
       "4          4        11     188       142     690  2.060000e-45      155.0  "
      ]
     },
     "execution_count": 3,
     "metadata": {},
     "output_type": "execute_result"
    }
   ],
   "source": [
    "tblastn_output.head()"
   ]
  },
  {
   "cell_type": "code",
   "execution_count": 4,
   "id": "0ef047c4-0c66-40bd-bfb4-da90ad2a1afb",
   "metadata": {},
   "outputs": [
    {
     "name": "stdout",
     "output_type": "stream",
     "text": [
      "(381439, 12)\n"
     ]
    }
   ],
   "source": [
    "print(tblastn_output.shape)"
   ]
  },
  {
   "cell_type": "markdown",
   "id": "3e4e1313-63f8-4696-8ee3-379f7cb080f3",
   "metadata": {},
   "source": [
    "We need to merge the tblastn output file with the contigs file. We require the contig lengths for filtering and the contig sequences for the translation step."
   ]
  },
  {
   "cell_type": "code",
   "execution_count": 5,
   "id": "977ea9d1-d40b-4781-9f67-e3866cab0d36",
   "metadata": {},
   "outputs": [],
   "source": [
    "def read_contig_file(file_path):\n",
    "    with open(file_path, 'r') as file:\n",
    "        lines = file.read().splitlines()\n",
    "    \n",
    "    contigs = []\n",
    "    for i in range(0, len(lines), 2):\n",
    "        header = lines[i]\n",
    "        sequence = lines[i + 1]\n",
    "        header_parts = header.split()\n",
    "        subject_id = header_parts[0][1:]\n",
    "        flag = header_parts[1].split('=')[1]\n",
    "        multi = header_parts[2].split('=')[1]\n",
    "        length = header_parts[3].split('=')[1]\n",
    "        \n",
    "        contigs.append((subject_id, flag, multi, length, sequence))\n",
    "    \n",
    "    df = pd.DataFrame(contigs, columns=['subject_id', 'flag', 'multi', 'len', 'sequence'])\n",
    "    return df\n",
    "\n",
    "contig_file_path = 'y5.final.contigs/y5.final.contigs.fa'\n",
    "contig_df = read_contig_file(contig_file_path)\n"
   ]
  },
  {
   "cell_type": "code",
   "execution_count": 6,
   "id": "9914c8da-6a53-4983-b84a-41f030ae8dd3",
   "metadata": {},
   "outputs": [
    {
     "data": {
      "text/html": [
       "<div>\n",
       "<style scoped>\n",
       "    .dataframe tbody tr th:only-of-type {\n",
       "        vertical-align: middle;\n",
       "    }\n",
       "\n",
       "    .dataframe tbody tr th {\n",
       "        vertical-align: top;\n",
       "    }\n",
       "\n",
       "    .dataframe thead th {\n",
       "        text-align: right;\n",
       "    }\n",
       "</style>\n",
       "<table border=\"1\" class=\"dataframe\">\n",
       "  <thead>\n",
       "    <tr style=\"text-align: right;\">\n",
       "      <th></th>\n",
       "      <th>subject_id</th>\n",
       "      <th>flag</th>\n",
       "      <th>multi</th>\n",
       "      <th>len</th>\n",
       "      <th>sequence</th>\n",
       "    </tr>\n",
       "  </thead>\n",
       "  <tbody>\n",
       "    <tr>\n",
       "      <th>0</th>\n",
       "      <td>k141_4482744</td>\n",
       "      <td>0</td>\n",
       "      <td>6.0769</td>\n",
       "      <td>206</td>\n",
       "      <td>AAACAGGGCGGGCAACAATTCCTATCCCCGGAACAATATCTGAAAC...</td>\n",
       "    </tr>\n",
       "    <tr>\n",
       "      <th>1</th>\n",
       "      <td>k141_1600980</td>\n",
       "      <td>1</td>\n",
       "      <td>3.0000</td>\n",
       "      <td>315</td>\n",
       "      <td>TGACGCTTGGCAAATTCGTCGGCAAGCACGCAATGGCGGCAGTCGG...</td>\n",
       "    </tr>\n",
       "    <tr>\n",
       "      <th>2</th>\n",
       "      <td>k141_7684702</td>\n",
       "      <td>0</td>\n",
       "      <td>1.0000</td>\n",
       "      <td>329</td>\n",
       "      <td>AAGCGGCGGCGCAGAGCTTCTTGGTCTATAGTCATATACAGTTCCG...</td>\n",
       "    </tr>\n",
       "    <tr>\n",
       "      <th>3</th>\n",
       "      <td>k141_640392</td>\n",
       "      <td>1</td>\n",
       "      <td>2.0000</td>\n",
       "      <td>356</td>\n",
       "      <td>CTCAGCGTTTCCGAGGTGTTCTTGATGGCTTCGATACGTCGCTTCA...</td>\n",
       "    </tr>\n",
       "    <tr>\n",
       "      <th>4</th>\n",
       "      <td>k141_2241372</td>\n",
       "      <td>0</td>\n",
       "      <td>1.0000</td>\n",
       "      <td>363</td>\n",
       "      <td>GAGAAGGTGCGCAACATCAACTCCACCCTGCTCAACTACAAGGACA...</td>\n",
       "    </tr>\n",
       "  </tbody>\n",
       "</table>\n",
       "</div>"
      ],
      "text/plain": [
       "     subject_id flag   multi  len  \\\n",
       "0  k141_4482744    0  6.0769  206   \n",
       "1  k141_1600980    1  3.0000  315   \n",
       "2  k141_7684702    0  1.0000  329   \n",
       "3   k141_640392    1  2.0000  356   \n",
       "4  k141_2241372    0  1.0000  363   \n",
       "\n",
       "                                            sequence  \n",
       "0  AAACAGGGCGGGCAACAATTCCTATCCCCGGAACAATATCTGAAAC...  \n",
       "1  TGACGCTTGGCAAATTCGTCGGCAAGCACGCAATGGCGGCAGTCGG...  \n",
       "2  AAGCGGCGGCGCAGAGCTTCTTGGTCTATAGTCATATACAGTTCCG...  \n",
       "3  CTCAGCGTTTCCGAGGTGTTCTTGATGGCTTCGATACGTCGCTTCA...  \n",
       "4  GAGAAGGTGCGCAACATCAACTCCACCCTGCTCAACTACAAGGACA...  "
      ]
     },
     "execution_count": 6,
     "metadata": {},
     "output_type": "execute_result"
    }
   ],
   "source": [
    "contig_df.head()"
   ]
  },
  {
   "cell_type": "code",
   "execution_count": 7,
   "id": "397a60d5-f55b-4423-9388-07335d404ddc",
   "metadata": {},
   "outputs": [
    {
     "name": "stdout",
     "output_type": "stream",
     "text": [
      "(5452840, 5)\n"
     ]
    }
   ],
   "source": [
    "print(contig_df.shape)"
   ]
  },
  {
   "cell_type": "code",
   "execution_count": 8,
   "id": "18f18eb0-1beb-4753-a0d0-5244c4aa8de1",
   "metadata": {},
   "outputs": [],
   "source": [
    "contig_df_subset = contig_df[['subject_id', 'len', 'sequence']]"
   ]
  },
  {
   "cell_type": "code",
   "execution_count": 9,
   "id": "2552d8b4-6577-4c52-9737-0834a689b1a4",
   "metadata": {},
   "outputs": [
    {
     "data": {
      "text/html": [
       "<div>\n",
       "<style scoped>\n",
       "    .dataframe tbody tr th:only-of-type {\n",
       "        vertical-align: middle;\n",
       "    }\n",
       "\n",
       "    .dataframe tbody tr th {\n",
       "        vertical-align: top;\n",
       "    }\n",
       "\n",
       "    .dataframe thead th {\n",
       "        text-align: right;\n",
       "    }\n",
       "</style>\n",
       "<table border=\"1\" class=\"dataframe\">\n",
       "  <thead>\n",
       "    <tr style=\"text-align: right;\">\n",
       "      <th></th>\n",
       "      <th>subject_id</th>\n",
       "      <th>len</th>\n",
       "      <th>sequence</th>\n",
       "    </tr>\n",
       "  </thead>\n",
       "  <tbody>\n",
       "    <tr>\n",
       "      <th>0</th>\n",
       "      <td>k141_4482744</td>\n",
       "      <td>206</td>\n",
       "      <td>AAACAGGGCGGGCAACAATTCCTATCCCCGGAACAATATCTGAAAC...</td>\n",
       "    </tr>\n",
       "    <tr>\n",
       "      <th>1</th>\n",
       "      <td>k141_1600980</td>\n",
       "      <td>315</td>\n",
       "      <td>TGACGCTTGGCAAATTCGTCGGCAAGCACGCAATGGCGGCAGTCGG...</td>\n",
       "    </tr>\n",
       "    <tr>\n",
       "      <th>2</th>\n",
       "      <td>k141_7684702</td>\n",
       "      <td>329</td>\n",
       "      <td>AAGCGGCGGCGCAGAGCTTCTTGGTCTATAGTCATATACAGTTCCG...</td>\n",
       "    </tr>\n",
       "    <tr>\n",
       "      <th>3</th>\n",
       "      <td>k141_640392</td>\n",
       "      <td>356</td>\n",
       "      <td>CTCAGCGTTTCCGAGGTGTTCTTGATGGCTTCGATACGTCGCTTCA...</td>\n",
       "    </tr>\n",
       "    <tr>\n",
       "      <th>4</th>\n",
       "      <td>k141_2241372</td>\n",
       "      <td>363</td>\n",
       "      <td>GAGAAGGTGCGCAACATCAACTCCACCCTGCTCAACTACAAGGACA...</td>\n",
       "    </tr>\n",
       "  </tbody>\n",
       "</table>\n",
       "</div>"
      ],
      "text/plain": [
       "     subject_id  len                                           sequence\n",
       "0  k141_4482744  206  AAACAGGGCGGGCAACAATTCCTATCCCCGGAACAATATCTGAAAC...\n",
       "1  k141_1600980  315  TGACGCTTGGCAAATTCGTCGGCAAGCACGCAATGGCGGCAGTCGG...\n",
       "2  k141_7684702  329  AAGCGGCGGCGCAGAGCTTCTTGGTCTATAGTCATATACAGTTCCG...\n",
       "3   k141_640392  356  CTCAGCGTTTCCGAGGTGTTCTTGATGGCTTCGATACGTCGCTTCA...\n",
       "4  k141_2241372  363  GAGAAGGTGCGCAACATCAACTCCACCCTGCTCAACTACAAGGACA..."
      ]
     },
     "execution_count": 9,
     "metadata": {},
     "output_type": "execute_result"
    }
   ],
   "source": [
    "contig_df_subset.head()"
   ]
  },
  {
   "cell_type": "code",
   "execution_count": 10,
   "id": "8ec1a2e4-59b0-4fef-a671-43783165f1a9",
   "metadata": {},
   "outputs": [
    {
     "name": "stdout",
     "output_type": "stream",
     "text": [
      "(5452840, 3)\n"
     ]
    }
   ],
   "source": [
    "print(contig_df_subset.shape)"
   ]
  },
  {
   "cell_type": "code",
   "execution_count": 11,
   "id": "6deb91cb-ab65-4b2e-8555-faa82ce3c8be",
   "metadata": {},
   "outputs": [],
   "source": [
    "merged_df = pd.merge(tblastn_output, contig_df_subset, left_on='subject id', right_on='subject_id', how='left')\n",
    "merged_df.drop(columns='subject_id', inplace=True)"
   ]
  },
  {
   "cell_type": "code",
   "execution_count": 12,
   "id": "b4dcb0a3-c4d6-4305-a685-646d9dac9f03",
   "metadata": {},
   "outputs": [],
   "source": [
    "merged_df.rename(columns={'len': 'contig_len', 'sequence': 'contig_sequence'}, inplace=True)"
   ]
  },
  {
   "cell_type": "code",
   "execution_count": 13,
   "id": "97c625ae-4784-4fd7-bd53-4cf38e694553",
   "metadata": {},
   "outputs": [
    {
     "data": {
      "text/html": [
       "<div>\n",
       "<style scoped>\n",
       "    .dataframe tbody tr th:only-of-type {\n",
       "        vertical-align: middle;\n",
       "    }\n",
       "\n",
       "    .dataframe tbody tr th {\n",
       "        vertical-align: top;\n",
       "    }\n",
       "\n",
       "    .dataframe thead th {\n",
       "        text-align: right;\n",
       "    }\n",
       "</style>\n",
       "<table border=\"1\" class=\"dataframe\">\n",
       "  <thead>\n",
       "    <tr style=\"text-align: right;\">\n",
       "      <th></th>\n",
       "      <th>query id</th>\n",
       "      <th>subject id</th>\n",
       "      <th>% identity</th>\n",
       "      <th>alignment length</th>\n",
       "      <th>mismatches</th>\n",
       "      <th>gap opens</th>\n",
       "      <th>q. start</th>\n",
       "      <th>q. end</th>\n",
       "      <th>s. start</th>\n",
       "      <th>s. end</th>\n",
       "      <th>e-value</th>\n",
       "      <th>bit score</th>\n",
       "      <th>contig_len</th>\n",
       "      <th>contig_sequence</th>\n",
       "    </tr>\n",
       "  </thead>\n",
       "  <tbody>\n",
       "    <tr>\n",
       "      <th>0</th>\n",
       "      <td>pir||A44594</td>\n",
       "      <td>k141_107880</td>\n",
       "      <td>48.691</td>\n",
       "      <td>191</td>\n",
       "      <td>85</td>\n",
       "      <td>5</td>\n",
       "      <td>6</td>\n",
       "      <td>187</td>\n",
       "      <td>586</td>\n",
       "      <td>26</td>\n",
       "      <td>8.890000e-50</td>\n",
       "      <td>166.0</td>\n",
       "      <td>751</td>\n",
       "      <td>AACCACCGGTAATGTCATTTTGGTTAACAGTAGCAGAGCCAGAGCT...</td>\n",
       "    </tr>\n",
       "    <tr>\n",
       "      <th>1</th>\n",
       "      <td>pir||A44594</td>\n",
       "      <td>k141_3922551</td>\n",
       "      <td>47.120</td>\n",
       "      <td>191</td>\n",
       "      <td>88</td>\n",
       "      <td>5</td>\n",
       "      <td>6</td>\n",
       "      <td>187</td>\n",
       "      <td>177</td>\n",
       "      <td>737</td>\n",
       "      <td>3.020000e-47</td>\n",
       "      <td>161.0</td>\n",
       "      <td>854</td>\n",
       "      <td>TATATATTAATTAAAAAAAATAAATTTAATTTAATTATTATTTTAA...</td>\n",
       "    </tr>\n",
       "    <tr>\n",
       "      <th>2</th>\n",
       "      <td>pir||A44594</td>\n",
       "      <td>k141_3299547</td>\n",
       "      <td>46.316</td>\n",
       "      <td>190</td>\n",
       "      <td>89</td>\n",
       "      <td>5</td>\n",
       "      <td>7</td>\n",
       "      <td>187</td>\n",
       "      <td>779</td>\n",
       "      <td>222</td>\n",
       "      <td>1.430000e-46</td>\n",
       "      <td>160.0</td>\n",
       "      <td>1028</td>\n",
       "      <td>CAATCCCCAAAAAAATTCCTTAAAACAGTATTTTAAATTATAAATT...</td>\n",
       "    </tr>\n",
       "    <tr>\n",
       "      <th>3</th>\n",
       "      <td>pir||A44594</td>\n",
       "      <td>k141_7053183</td>\n",
       "      <td>45.789</td>\n",
       "      <td>190</td>\n",
       "      <td>90</td>\n",
       "      <td>5</td>\n",
       "      <td>7</td>\n",
       "      <td>187</td>\n",
       "      <td>632</td>\n",
       "      <td>75</td>\n",
       "      <td>9.290000e-46</td>\n",
       "      <td>158.0</td>\n",
       "      <td>933</td>\n",
       "      <td>GATTAAAAGTTTAATAATTAATGAATATTTTTAATAAAAATTATTG...</td>\n",
       "    </tr>\n",
       "    <tr>\n",
       "      <th>4</th>\n",
       "      <td>pir||A44594</td>\n",
       "      <td>k141_3016448</td>\n",
       "      <td>47.027</td>\n",
       "      <td>185</td>\n",
       "      <td>89</td>\n",
       "      <td>4</td>\n",
       "      <td>11</td>\n",
       "      <td>188</td>\n",
       "      <td>142</td>\n",
       "      <td>690</td>\n",
       "      <td>2.060000e-45</td>\n",
       "      <td>155.0</td>\n",
       "      <td>771</td>\n",
       "      <td>GATATAAATATAATAAAAAATTTTAAAAAATAAATAAAAATGAGAA...</td>\n",
       "    </tr>\n",
       "  </tbody>\n",
       "</table>\n",
       "</div>"
      ],
      "text/plain": [
       "      query id    subject id  % identity  alignment length  mismatches  \\\n",
       "0  pir||A44594   k141_107880      48.691               191          85   \n",
       "1  pir||A44594  k141_3922551      47.120               191          88   \n",
       "2  pir||A44594  k141_3299547      46.316               190          89   \n",
       "3  pir||A44594  k141_7053183      45.789               190          90   \n",
       "4  pir||A44594  k141_3016448      47.027               185          89   \n",
       "\n",
       "   gap opens  q. start  q. end  s. start  s. end       e-value  bit score  \\\n",
       "0          5         6     187       586      26  8.890000e-50      166.0   \n",
       "1          5         6     187       177     737  3.020000e-47      161.0   \n",
       "2          5         7     187       779     222  1.430000e-46      160.0   \n",
       "3          5         7     187       632      75  9.290000e-46      158.0   \n",
       "4          4        11     188       142     690  2.060000e-45      155.0   \n",
       "\n",
       "  contig_len                                    contig_sequence  \n",
       "0        751  AACCACCGGTAATGTCATTTTGGTTAACAGTAGCAGAGCCAGAGCT...  \n",
       "1        854  TATATATTAATTAAAAAAAATAAATTTAATTTAATTATTATTTTAA...  \n",
       "2       1028  CAATCCCCAAAAAAATTCCTTAAAACAGTATTTTAAATTATAAATT...  \n",
       "3        933  GATTAAAAGTTTAATAATTAATGAATATTTTTAATAAAAATTATTG...  \n",
       "4        771  GATATAAATATAATAAAAAATTTTAAAAAATAAATAAAAATGAGAA...  "
      ]
     },
     "execution_count": 13,
     "metadata": {},
     "output_type": "execute_result"
    }
   ],
   "source": [
    "merged_df.head()"
   ]
  },
  {
   "cell_type": "code",
   "execution_count": 14,
   "id": "29078f50-e126-4cba-8f97-93bd1da85a65",
   "metadata": {},
   "outputs": [
    {
     "name": "stdout",
     "output_type": "stream",
     "text": [
      "(381439, 14)\n"
     ]
    }
   ],
   "source": [
    "print(merged_df.shape)"
   ]
  },
  {
   "cell_type": "code",
   "execution_count": 15,
   "id": "c1ee94b7-3b33-47ae-a780-badbcb5a9f46",
   "metadata": {},
   "outputs": [],
   "source": [
    "merged_df['contig_len'] = pd.to_numeric(merged_df['contig_len'], errors='coerce')"
   ]
  },
  {
   "cell_type": "code",
   "execution_count": 16,
   "id": "910ba2d8-12f3-4501-880b-c0abc4b3f9d5",
   "metadata": {},
   "outputs": [
    {
     "name": "stdout",
     "output_type": "stream",
     "text": [
      "Any NaNs in the merged dataFrame: False\n"
     ]
    }
   ],
   "source": [
    "has_nan = merged_df.isna().values.any()\n",
    "print(f\"Any NaNs in the merged dataFrame: {has_nan}\")"
   ]
  },
  {
   "cell_type": "code",
   "execution_count": 17,
   "id": "85c6a323-f356-4d68-a702-9ef38a421151",
   "metadata": {},
   "outputs": [],
   "source": [
    "del contig_df\n",
    "del contig_df_subset\n",
    "del tblastn_output"
   ]
  },
  {
   "cell_type": "code",
   "execution_count": 18,
   "id": "40a09f0d-0637-45c9-b059-de25a66e8780",
   "metadata": {},
   "outputs": [
    {
     "data": {
      "text/plain": [
       "90"
      ]
     },
     "execution_count": 18,
     "metadata": {},
     "output_type": "execute_result"
    }
   ],
   "source": [
    "import gc\n",
    "gc.collect()"
   ]
  },
  {
   "cell_type": "markdown",
   "id": "b1aabeac-6675-4f56-bd38-26a9d40ececb",
   "metadata": {},
   "source": [
    "## Filtering ##"
   ]
  },
  {
   "cell_type": "markdown",
   "id": "a631246d-2125-4542-b018-1abab1cca0c2",
   "metadata": {},
   "source": [
    "Now, it’s time to filter out sequences based on criteria such as identity, e-value, contig length, and alignment length."
   ]
  },
  {
   "cell_type": "code",
   "execution_count": 19,
   "id": "c4e72a6c-21e2-46da-aab8-fbffa1c4eda2",
   "metadata": {},
   "outputs": [],
   "source": [
    "filtered_df = merged_df[(merged_df['% identity'] > 70)&\n",
    "                        (merged_df['e-value'] < 1e-20)&\n",
    "                        (merged_df['contig_len'] < 2000)&\n",
    "                        (merged_df['alignment length'] > 100)&\n",
    "                        (merged_df['contig_len'] * 0.7 < merged_df['alignment length'] * 3)]"
   ]
  },
  {
   "cell_type": "code",
   "execution_count": 20,
   "id": "55e70e85-8731-46d7-a364-af26c617afcb",
   "metadata": {},
   "outputs": [
    {
     "data": {
      "text/html": [
       "<div>\n",
       "<style scoped>\n",
       "    .dataframe tbody tr th:only-of-type {\n",
       "        vertical-align: middle;\n",
       "    }\n",
       "\n",
       "    .dataframe tbody tr th {\n",
       "        vertical-align: top;\n",
       "    }\n",
       "\n",
       "    .dataframe thead th {\n",
       "        text-align: right;\n",
       "    }\n",
       "</style>\n",
       "<table border=\"1\" class=\"dataframe\">\n",
       "  <thead>\n",
       "    <tr style=\"text-align: right;\">\n",
       "      <th></th>\n",
       "      <th>query id</th>\n",
       "      <th>subject id</th>\n",
       "      <th>% identity</th>\n",
       "      <th>alignment length</th>\n",
       "      <th>mismatches</th>\n",
       "      <th>gap opens</th>\n",
       "      <th>q. start</th>\n",
       "      <th>q. end</th>\n",
       "      <th>s. start</th>\n",
       "      <th>s. end</th>\n",
       "      <th>e-value</th>\n",
       "      <th>bit score</th>\n",
       "      <th>contig_len</th>\n",
       "      <th>contig_sequence</th>\n",
       "    </tr>\n",
       "  </thead>\n",
       "  <tbody>\n",
       "    <tr>\n",
       "      <th>448</th>\n",
       "      <td>AAA21848.1</td>\n",
       "      <td>k141_6776299</td>\n",
       "      <td>86.364</td>\n",
       "      <td>198</td>\n",
       "      <td>26</td>\n",
       "      <td>1</td>\n",
       "      <td>295</td>\n",
       "      <td>491</td>\n",
       "      <td>594</td>\n",
       "      <td>1</td>\n",
       "      <td>1.450000e-111</td>\n",
       "      <td>338.0</td>\n",
       "      <td>650</td>\n",
       "      <td>ACCCATCTTCATGCCGAGTTCTTCCCACTTCTTGAAGTGAGCAGTG...</td>\n",
       "    </tr>\n",
       "    <tr>\n",
       "      <th>450</th>\n",
       "      <td>AAA21848.1</td>\n",
       "      <td>k141_7367989</td>\n",
       "      <td>84.925</td>\n",
       "      <td>199</td>\n",
       "      <td>29</td>\n",
       "      <td>1</td>\n",
       "      <td>212</td>\n",
       "      <td>409</td>\n",
       "      <td>599</td>\n",
       "      <td>3</td>\n",
       "      <td>5.490000e-92</td>\n",
       "      <td>287.0</td>\n",
       "      <td>599</td>\n",
       "      <td>TATTCTACGAGCGGATCAACCGTCCAACCATAGATACCGATGTAGT...</td>\n",
       "    </tr>\n",
       "    <tr>\n",
       "      <th>452</th>\n",
       "      <td>AAA21848.1</td>\n",
       "      <td>k141_7411831</td>\n",
       "      <td>87.135</td>\n",
       "      <td>171</td>\n",
       "      <td>21</td>\n",
       "      <td>1</td>\n",
       "      <td>195</td>\n",
       "      <td>364</td>\n",
       "      <td>3</td>\n",
       "      <td>515</td>\n",
       "      <td>9.610000e-75</td>\n",
       "      <td>241.0</td>\n",
       "      <td>515</td>\n",
       "      <td>TCTATCAGTATTTCAGCGTCCGTGACAGGCCGCGTGATTGTGGTAC...</td>\n",
       "    </tr>\n",
       "    <tr>\n",
       "      <th>1014</th>\n",
       "      <td>AAA23287.1</td>\n",
       "      <td>k141_2912295</td>\n",
       "      <td>71.939</td>\n",
       "      <td>196</td>\n",
       "      <td>55</td>\n",
       "      <td>0</td>\n",
       "      <td>55</td>\n",
       "      <td>250</td>\n",
       "      <td>591</td>\n",
       "      <td>4</td>\n",
       "      <td>1.250000e-100</td>\n",
       "      <td>296.0</td>\n",
       "      <td>608</td>\n",
       "      <td>GCTGGCAGAACCACTACTCTGGTAGCCTTCGATATTTAATGCAGCC...</td>\n",
       "    </tr>\n",
       "    <tr>\n",
       "      <th>1027</th>\n",
       "      <td>AAA23287.1</td>\n",
       "      <td>k141_2679568</td>\n",
       "      <td>73.653</td>\n",
       "      <td>167</td>\n",
       "      <td>44</td>\n",
       "      <td>0</td>\n",
       "      <td>58</td>\n",
       "      <td>224</td>\n",
       "      <td>501</td>\n",
       "      <td>1</td>\n",
       "      <td>2.140000e-89</td>\n",
       "      <td>269.0</td>\n",
       "      <td>695</td>\n",
       "      <td>CCAAGCCTTAAAATGCTCGGTTACGGAAATGGTGCCGCTGGTACGC...</td>\n",
       "    </tr>\n",
       "  </tbody>\n",
       "</table>\n",
       "</div>"
      ],
      "text/plain": [
       "        query id    subject id  % identity  alignment length  mismatches  \\\n",
       "448   AAA21848.1  k141_6776299      86.364               198          26   \n",
       "450   AAA21848.1  k141_7367989      84.925               199          29   \n",
       "452   AAA21848.1  k141_7411831      87.135               171          21   \n",
       "1014  AAA23287.1  k141_2912295      71.939               196          55   \n",
       "1027  AAA23287.1  k141_2679568      73.653               167          44   \n",
       "\n",
       "      gap opens  q. start  q. end  s. start  s. end        e-value  bit score  \\\n",
       "448           1       295     491       594       1  1.450000e-111      338.0   \n",
       "450           1       212     409       599       3   5.490000e-92      287.0   \n",
       "452           1       195     364         3     515   9.610000e-75      241.0   \n",
       "1014          0        55     250       591       4  1.250000e-100      296.0   \n",
       "1027          0        58     224       501       1   2.140000e-89      269.0   \n",
       "\n",
       "      contig_len                                    contig_sequence  \n",
       "448          650  ACCCATCTTCATGCCGAGTTCTTCCCACTTCTTGAAGTGAGCAGTG...  \n",
       "450          599  TATTCTACGAGCGGATCAACCGTCCAACCATAGATACCGATGTAGT...  \n",
       "452          515  TCTATCAGTATTTCAGCGTCCGTGACAGGCCGCGTGATTGTGGTAC...  \n",
       "1014         608  GCTGGCAGAACCACTACTCTGGTAGCCTTCGATATTTAATGCAGCC...  \n",
       "1027         695  CCAAGCCTTAAAATGCTCGGTTACGGAAATGGTGCCGCTGGTACGC...  "
      ]
     },
     "execution_count": 20,
     "metadata": {},
     "output_type": "execute_result"
    }
   ],
   "source": [
    "filtered_df.head()"
   ]
  },
  {
   "cell_type": "code",
   "execution_count": 21,
   "id": "24b58c3c-e46e-4e0a-9a20-13af120ca6fc",
   "metadata": {},
   "outputs": [
    {
     "name": "stdout",
     "output_type": "stream",
     "text": [
      "(2339, 14)\n"
     ]
    }
   ],
   "source": [
    "print(filtered_df.shape)"
   ]
  },
  {
   "cell_type": "markdown",
   "id": "b03c0884-73f0-468b-97b5-edd8e20086d5",
   "metadata": {},
   "source": [
    "## Translation ##"
   ]
  },
  {
   "cell_type": "markdown",
   "id": "6a17deff-c0e4-4ebb-a604-a02357691ff5",
   "metadata": {},
   "source": [
    "Before translation, we must determine the reading frame of the contig. For sense contigs, we need to know their alignment start point, while for antisense contigs, we must also consider the contig length in addition to the alignment start point."
   ]
  },
  {
   "cell_type": "code",
   "execution_count": 23,
   "id": "6082daac-380a-4c4c-b4be-e30426a799cd",
   "metadata": {},
   "outputs": [
    {
     "name": "stderr",
     "output_type": "stream",
     "text": [
      "C:\\Users\\M\\AppData\\Local\\Temp\\ipykernel_10888\\3053742987.py:1: SettingWithCopyWarning: \n",
      "A value is trying to be set on a copy of a slice from a DataFrame.\n",
      "Try using .loc[row_indexer,col_indexer] = value instead\n",
      "\n",
      "See the caveats in the documentation: https://pandas.pydata.org/pandas-docs/stable/user_guide/indexing.html#returning-a-view-versus-a-copy\n",
      "  filtered_df['frame'] = np.where(\n"
     ]
    }
   ],
   "source": [
    "filtered_df['frame'] = np.where(\n",
    "    filtered_df['s. end'] > filtered_df['s. start'],\n",
    "    ((filtered_df['s. start'] - 1) % 3) + 1,\n",
    "    (((filtered_df['contig_len'] - filtered_df['s. start']) % 3) * (-1)) - 1\n",
    ")"
   ]
  },
  {
   "cell_type": "code",
   "execution_count": 24,
   "id": "b6a5e57d-ae71-48f5-8ce4-0dbd7dbf0543",
   "metadata": {},
   "outputs": [
    {
     "data": {
      "text/html": [
       "<div>\n",
       "<style scoped>\n",
       "    .dataframe tbody tr th:only-of-type {\n",
       "        vertical-align: middle;\n",
       "    }\n",
       "\n",
       "    .dataframe tbody tr th {\n",
       "        vertical-align: top;\n",
       "    }\n",
       "\n",
       "    .dataframe thead th {\n",
       "        text-align: right;\n",
       "    }\n",
       "</style>\n",
       "<table border=\"1\" class=\"dataframe\">\n",
       "  <thead>\n",
       "    <tr style=\"text-align: right;\">\n",
       "      <th></th>\n",
       "      <th>query id</th>\n",
       "      <th>subject id</th>\n",
       "      <th>% identity</th>\n",
       "      <th>alignment length</th>\n",
       "      <th>mismatches</th>\n",
       "      <th>gap opens</th>\n",
       "      <th>q. start</th>\n",
       "      <th>q. end</th>\n",
       "      <th>s. start</th>\n",
       "      <th>s. end</th>\n",
       "      <th>e-value</th>\n",
       "      <th>bit score</th>\n",
       "      <th>contig_len</th>\n",
       "      <th>contig_sequence</th>\n",
       "      <th>frame</th>\n",
       "    </tr>\n",
       "  </thead>\n",
       "  <tbody>\n",
       "    <tr>\n",
       "      <th>448</th>\n",
       "      <td>AAA21848.1</td>\n",
       "      <td>k141_6776299</td>\n",
       "      <td>86.364</td>\n",
       "      <td>198</td>\n",
       "      <td>26</td>\n",
       "      <td>1</td>\n",
       "      <td>295</td>\n",
       "      <td>491</td>\n",
       "      <td>594</td>\n",
       "      <td>1</td>\n",
       "      <td>1.450000e-111</td>\n",
       "      <td>338.0</td>\n",
       "      <td>650</td>\n",
       "      <td>ACCCATCTTCATGCCGAGTTCTTCCCACTTCTTGAAGTGAGCAGTG...</td>\n",
       "      <td>-3</td>\n",
       "    </tr>\n",
       "    <tr>\n",
       "      <th>450</th>\n",
       "      <td>AAA21848.1</td>\n",
       "      <td>k141_7367989</td>\n",
       "      <td>84.925</td>\n",
       "      <td>199</td>\n",
       "      <td>29</td>\n",
       "      <td>1</td>\n",
       "      <td>212</td>\n",
       "      <td>409</td>\n",
       "      <td>599</td>\n",
       "      <td>3</td>\n",
       "      <td>5.490000e-92</td>\n",
       "      <td>287.0</td>\n",
       "      <td>599</td>\n",
       "      <td>TATTCTACGAGCGGATCAACCGTCCAACCATAGATACCGATGTAGT...</td>\n",
       "      <td>-1</td>\n",
       "    </tr>\n",
       "    <tr>\n",
       "      <th>452</th>\n",
       "      <td>AAA21848.1</td>\n",
       "      <td>k141_7411831</td>\n",
       "      <td>87.135</td>\n",
       "      <td>171</td>\n",
       "      <td>21</td>\n",
       "      <td>1</td>\n",
       "      <td>195</td>\n",
       "      <td>364</td>\n",
       "      <td>3</td>\n",
       "      <td>515</td>\n",
       "      <td>9.610000e-75</td>\n",
       "      <td>241.0</td>\n",
       "      <td>515</td>\n",
       "      <td>TCTATCAGTATTTCAGCGTCCGTGACAGGCCGCGTGATTGTGGTAC...</td>\n",
       "      <td>3</td>\n",
       "    </tr>\n",
       "    <tr>\n",
       "      <th>1014</th>\n",
       "      <td>AAA23287.1</td>\n",
       "      <td>k141_2912295</td>\n",
       "      <td>71.939</td>\n",
       "      <td>196</td>\n",
       "      <td>55</td>\n",
       "      <td>0</td>\n",
       "      <td>55</td>\n",
       "      <td>250</td>\n",
       "      <td>591</td>\n",
       "      <td>4</td>\n",
       "      <td>1.250000e-100</td>\n",
       "      <td>296.0</td>\n",
       "      <td>608</td>\n",
       "      <td>GCTGGCAGAACCACTACTCTGGTAGCCTTCGATATTTAATGCAGCC...</td>\n",
       "      <td>-3</td>\n",
       "    </tr>\n",
       "    <tr>\n",
       "      <th>1027</th>\n",
       "      <td>AAA23287.1</td>\n",
       "      <td>k141_2679568</td>\n",
       "      <td>73.653</td>\n",
       "      <td>167</td>\n",
       "      <td>44</td>\n",
       "      <td>0</td>\n",
       "      <td>58</td>\n",
       "      <td>224</td>\n",
       "      <td>501</td>\n",
       "      <td>1</td>\n",
       "      <td>2.140000e-89</td>\n",
       "      <td>269.0</td>\n",
       "      <td>695</td>\n",
       "      <td>CCAAGCCTTAAAATGCTCGGTTACGGAAATGGTGCCGCTGGTACGC...</td>\n",
       "      <td>-3</td>\n",
       "    </tr>\n",
       "  </tbody>\n",
       "</table>\n",
       "</div>"
      ],
      "text/plain": [
       "        query id    subject id  % identity  alignment length  mismatches  \\\n",
       "448   AAA21848.1  k141_6776299      86.364               198          26   \n",
       "450   AAA21848.1  k141_7367989      84.925               199          29   \n",
       "452   AAA21848.1  k141_7411831      87.135               171          21   \n",
       "1014  AAA23287.1  k141_2912295      71.939               196          55   \n",
       "1027  AAA23287.1  k141_2679568      73.653               167          44   \n",
       "\n",
       "      gap opens  q. start  q. end  s. start  s. end        e-value  bit score  \\\n",
       "448           1       295     491       594       1  1.450000e-111      338.0   \n",
       "450           1       212     409       599       3   5.490000e-92      287.0   \n",
       "452           1       195     364         3     515   9.610000e-75      241.0   \n",
       "1014          0        55     250       591       4  1.250000e-100      296.0   \n",
       "1027          0        58     224       501       1   2.140000e-89      269.0   \n",
       "\n",
       "      contig_len                                    contig_sequence  frame  \n",
       "448          650  ACCCATCTTCATGCCGAGTTCTTCCCACTTCTTGAAGTGAGCAGTG...     -3  \n",
       "450          599  TATTCTACGAGCGGATCAACCGTCCAACCATAGATACCGATGTAGT...     -1  \n",
       "452          515  TCTATCAGTATTTCAGCGTCCGTGACAGGCCGCGTGATTGTGGTAC...      3  \n",
       "1014         608  GCTGGCAGAACCACTACTCTGGTAGCCTTCGATATTTAATGCAGCC...     -3  \n",
       "1027         695  CCAAGCCTTAAAATGCTCGGTTACGGAAATGGTGCCGCTGGTACGC...     -3  "
      ]
     },
     "execution_count": 24,
     "metadata": {},
     "output_type": "execute_result"
    }
   ],
   "source": [
    "filtered_df.head()"
   ]
  },
  {
   "cell_type": "code",
   "execution_count": 25,
   "id": "dbad4e95-1a58-40fd-a1f1-06a39a3895e8",
   "metadata": {},
   "outputs": [],
   "source": [
    "def translate_sequence(nucleotide_seq, frame):\n",
    "    if frame > 0:\n",
    "        translated_seq = Seq(nucleotide_seq[frame-1:]).translate()\n",
    "    else:\n",
    "        reverse_complement_seq = str(Seq(nucleotide_seq).reverse_complement())\n",
    "        frame = frame * (-1)\n",
    "        translated_seq = Seq(reverse_complement_seq[frame-1:]).translate()\n",
    "        \n",
    "    if '*' not in str(translated_seq):\n",
    "        return str(translated_seq)\n",
    "    else:\n",
    "        return ' '"
   ]
  },
  {
   "cell_type": "code",
   "execution_count": 26,
   "id": "38d305cb-c63e-4762-a364-85f0b9be2c6a",
   "metadata": {},
   "outputs": [
    {
     "name": "stderr",
     "output_type": "stream",
     "text": [
      "C:\\Users\\M\\AppData\\Local\\Programs\\Python\\Python310\\lib\\site-packages\\Bio\\Seq.py:3482: BiopythonWarning: Partial codon, len(sequence) not a multiple of three. Explicitly trim the sequence or add trailing N before translation. This may become an error in future.\n",
      "  warnings.warn(\n",
      "C:\\Users\\M\\AppData\\Local\\Temp\\ipykernel_10888\\3345418976.py:1: SettingWithCopyWarning: \n",
      "A value is trying to be set on a copy of a slice from a DataFrame.\n",
      "Try using .loc[row_indexer,col_indexer] = value instead\n",
      "\n",
      "See the caveats in the documentation: https://pandas.pydata.org/pandas-docs/stable/user_guide/indexing.html#returning-a-view-versus-a-copy\n",
      "  filtered_df['amino_acid_sequence'] = filtered_df.apply(\n"
     ]
    }
   ],
   "source": [
    "filtered_df['amino_acid_sequence'] = filtered_df.apply(\n",
    "    lambda row: translate_sequence(row['contig_sequence'], row['frame']), axis=1\n",
    ")"
   ]
  },
  {
   "cell_type": "code",
   "execution_count": 27,
   "id": "56e81d12-6608-4e8a-8eec-23fedb971a65",
   "metadata": {},
   "outputs": [
    {
     "data": {
      "text/html": [
       "<div>\n",
       "<style scoped>\n",
       "    .dataframe tbody tr th:only-of-type {\n",
       "        vertical-align: middle;\n",
       "    }\n",
       "\n",
       "    .dataframe tbody tr th {\n",
       "        vertical-align: top;\n",
       "    }\n",
       "\n",
       "    .dataframe thead th {\n",
       "        text-align: right;\n",
       "    }\n",
       "</style>\n",
       "<table border=\"1\" class=\"dataframe\">\n",
       "  <thead>\n",
       "    <tr style=\"text-align: right;\">\n",
       "      <th></th>\n",
       "      <th>query id</th>\n",
       "      <th>subject id</th>\n",
       "      <th>% identity</th>\n",
       "      <th>alignment length</th>\n",
       "      <th>mismatches</th>\n",
       "      <th>gap opens</th>\n",
       "      <th>q. start</th>\n",
       "      <th>q. end</th>\n",
       "      <th>s. start</th>\n",
       "      <th>s. end</th>\n",
       "      <th>e-value</th>\n",
       "      <th>bit score</th>\n",
       "      <th>contig_len</th>\n",
       "      <th>contig_sequence</th>\n",
       "      <th>frame</th>\n",
       "      <th>amino_acid_sequence</th>\n",
       "    </tr>\n",
       "  </thead>\n",
       "  <tbody>\n",
       "    <tr>\n",
       "      <th>448</th>\n",
       "      <td>AAA21848.1</td>\n",
       "      <td>k141_6776299</td>\n",
       "      <td>86.364</td>\n",
       "      <td>198</td>\n",
       "      <td>26</td>\n",
       "      <td>1</td>\n",
       "      <td>295</td>\n",
       "      <td>491</td>\n",
       "      <td>594</td>\n",
       "      <td>1</td>\n",
       "      <td>1.450000e-111</td>\n",
       "      <td>338.0</td>\n",
       "      <td>650</td>\n",
       "      <td>ACCCATCTTCATGCCGAGTTCTTCCCACTTCTTGAAGTGAGCAGTG...</td>\n",
       "      <td>-3</td>\n",
       "      <td>AATAKSSSSKGSAAVSGTIDACKDEMGHQGDSKTTQGQNNSSVTGN...</td>\n",
       "    </tr>\n",
       "    <tr>\n",
       "      <th>450</th>\n",
       "      <td>AAA21848.1</td>\n",
       "      <td>k141_7367989</td>\n",
       "      <td>84.925</td>\n",
       "      <td>199</td>\n",
       "      <td>29</td>\n",
       "      <td>1</td>\n",
       "      <td>212</td>\n",
       "      <td>409</td>\n",
       "      <td>599</td>\n",
       "      <td>3</td>\n",
       "      <td>5.490000e-92</td>\n",
       "      <td>287.0</td>\n",
       "      <td>599</td>\n",
       "      <td>TATTCTACGAGCGGATCAACCGTCCAACCATAGATACCGATGTAGT...</td>\n",
       "      <td>-1</td>\n",
       "      <td>ISEHMRQWEKMGMTMGKLYEAKVLGEAGNVNGEVRNGRMDFPHAKV...</td>\n",
       "    </tr>\n",
       "    <tr>\n",
       "      <th>452</th>\n",
       "      <td>AAA21848.1</td>\n",
       "      <td>k141_7411831</td>\n",
       "      <td>87.135</td>\n",
       "      <td>171</td>\n",
       "      <td>21</td>\n",
       "      <td>1</td>\n",
       "      <td>195</td>\n",
       "      <td>364</td>\n",
       "      <td>3</td>\n",
       "      <td>515</td>\n",
       "      <td>9.610000e-75</td>\n",
       "      <td>241.0</td>\n",
       "      <td>515</td>\n",
       "      <td>TCTATCAGTATTTCAGCGTCCGTGACAGGCCGCGTGATTGTGGTAC...</td>\n",
       "      <td>3</td>\n",
       "      <td>YQYFSVRDRPRDCGTINISEHMRQWEKMGMTMGKLYEAKVLGEAGN...</td>\n",
       "    </tr>\n",
       "    <tr>\n",
       "      <th>1014</th>\n",
       "      <td>AAA23287.1</td>\n",
       "      <td>k141_2912295</td>\n",
       "      <td>71.939</td>\n",
       "      <td>196</td>\n",
       "      <td>55</td>\n",
       "      <td>0</td>\n",
       "      <td>55</td>\n",
       "      <td>250</td>\n",
       "      <td>591</td>\n",
       "      <td>4</td>\n",
       "      <td>1.250000e-100</td>\n",
       "      <td>296.0</td>\n",
       "      <td>608</td>\n",
       "      <td>GCTGGCAGAACCACTACTCTGGTAGCCTTCGATATTTAATGCAGCC...</td>\n",
       "      <td>-3</td>\n",
       "      <td>LVPSMTVKAADTIYNNKTGNQDGYDYELWKDTGNTSMTLNAGGTFD...</td>\n",
       "    </tr>\n",
       "    <tr>\n",
       "      <th>1027</th>\n",
       "      <td>AAA23287.1</td>\n",
       "      <td>k141_2679568</td>\n",
       "      <td>73.653</td>\n",
       "      <td>167</td>\n",
       "      <td>44</td>\n",
       "      <td>0</td>\n",
       "      <td>58</td>\n",
       "      <td>224</td>\n",
       "      <td>501</td>\n",
       "      <td>1</td>\n",
       "      <td>2.140000e-89</td>\n",
       "      <td>269.0</td>\n",
       "      <td>695</td>\n",
       "      <td>CCAAGCCTTAAAATGCTCGGTTACGGAAATGGTGCCGCTGGTACGC...</td>\n",
       "      <td>-3</td>\n",
       "      <td></td>\n",
       "    </tr>\n",
       "  </tbody>\n",
       "</table>\n",
       "</div>"
      ],
      "text/plain": [
       "        query id    subject id  % identity  alignment length  mismatches  \\\n",
       "448   AAA21848.1  k141_6776299      86.364               198          26   \n",
       "450   AAA21848.1  k141_7367989      84.925               199          29   \n",
       "452   AAA21848.1  k141_7411831      87.135               171          21   \n",
       "1014  AAA23287.1  k141_2912295      71.939               196          55   \n",
       "1027  AAA23287.1  k141_2679568      73.653               167          44   \n",
       "\n",
       "      gap opens  q. start  q. end  s. start  s. end        e-value  bit score  \\\n",
       "448           1       295     491       594       1  1.450000e-111      338.0   \n",
       "450           1       212     409       599       3   5.490000e-92      287.0   \n",
       "452           1       195     364         3     515   9.610000e-75      241.0   \n",
       "1014          0        55     250       591       4  1.250000e-100      296.0   \n",
       "1027          0        58     224       501       1   2.140000e-89      269.0   \n",
       "\n",
       "      contig_len                                    contig_sequence  frame  \\\n",
       "448          650  ACCCATCTTCATGCCGAGTTCTTCCCACTTCTTGAAGTGAGCAGTG...     -3   \n",
       "450          599  TATTCTACGAGCGGATCAACCGTCCAACCATAGATACCGATGTAGT...     -1   \n",
       "452          515  TCTATCAGTATTTCAGCGTCCGTGACAGGCCGCGTGATTGTGGTAC...      3   \n",
       "1014         608  GCTGGCAGAACCACTACTCTGGTAGCCTTCGATATTTAATGCAGCC...     -3   \n",
       "1027         695  CCAAGCCTTAAAATGCTCGGTTACGGAAATGGTGCCGCTGGTACGC...     -3   \n",
       "\n",
       "                                    amino_acid_sequence  \n",
       "448   AATAKSSSSKGSAAVSGTIDACKDEMGHQGDSKTTQGQNNSSVTGN...  \n",
       "450   ISEHMRQWEKMGMTMGKLYEAKVLGEAGNVNGEVRNGRMDFPHAKV...  \n",
       "452   YQYFSVRDRPRDCGTINISEHMRQWEKMGMTMGKLYEAKVLGEAGN...  \n",
       "1014  LVPSMTVKAADTIYNNKTGNQDGYDYELWKDTGNTSMTLNAGGTFD...  \n",
       "1027                                                     "
      ]
     },
     "execution_count": 27,
     "metadata": {},
     "output_type": "execute_result"
    }
   ],
   "source": [
    "filtered_df.head()"
   ]
  },
  {
   "cell_type": "code",
   "execution_count": 28,
   "id": "4025f23a-310f-455c-9359-335a4d40e412",
   "metadata": {},
   "outputs": [
    {
     "name": "stdout",
     "output_type": "stream",
     "text": [
      "(2339, 16)\n"
     ]
    }
   ],
   "source": [
    "print(filtered_df.shape)"
   ]
  },
  {
   "cell_type": "code",
   "execution_count": 29,
   "id": "13da6932-d476-47f1-a8d3-863b572a8aea",
   "metadata": {},
   "outputs": [],
   "source": [
    "filtered_df = filtered_df[filtered_df['amino_acid_sequence'].str.len() > 5]"
   ]
  },
  {
   "cell_type": "code",
   "execution_count": 30,
   "id": "c65033e4-dd31-4faf-b3f8-c8a04721815b",
   "metadata": {},
   "outputs": [
    {
     "data": {
      "text/html": [
       "<div>\n",
       "<style scoped>\n",
       "    .dataframe tbody tr th:only-of-type {\n",
       "        vertical-align: middle;\n",
       "    }\n",
       "\n",
       "    .dataframe tbody tr th {\n",
       "        vertical-align: top;\n",
       "    }\n",
       "\n",
       "    .dataframe thead th {\n",
       "        text-align: right;\n",
       "    }\n",
       "</style>\n",
       "<table border=\"1\" class=\"dataframe\">\n",
       "  <thead>\n",
       "    <tr style=\"text-align: right;\">\n",
       "      <th></th>\n",
       "      <th>query id</th>\n",
       "      <th>subject id</th>\n",
       "      <th>% identity</th>\n",
       "      <th>alignment length</th>\n",
       "      <th>mismatches</th>\n",
       "      <th>gap opens</th>\n",
       "      <th>q. start</th>\n",
       "      <th>q. end</th>\n",
       "      <th>s. start</th>\n",
       "      <th>s. end</th>\n",
       "      <th>e-value</th>\n",
       "      <th>bit score</th>\n",
       "      <th>contig_len</th>\n",
       "      <th>contig_sequence</th>\n",
       "      <th>frame</th>\n",
       "      <th>amino_acid_sequence</th>\n",
       "    </tr>\n",
       "  </thead>\n",
       "  <tbody>\n",
       "    <tr>\n",
       "      <th>448</th>\n",
       "      <td>AAA21848.1</td>\n",
       "      <td>k141_6776299</td>\n",
       "      <td>86.364</td>\n",
       "      <td>198</td>\n",
       "      <td>26</td>\n",
       "      <td>1</td>\n",
       "      <td>295</td>\n",
       "      <td>491</td>\n",
       "      <td>594</td>\n",
       "      <td>1</td>\n",
       "      <td>1.450000e-111</td>\n",
       "      <td>338.0</td>\n",
       "      <td>650</td>\n",
       "      <td>ACCCATCTTCATGCCGAGTTCTTCCCACTTCTTGAAGTGAGCAGTG...</td>\n",
       "      <td>-3</td>\n",
       "      <td>AATAKSSSSKGSAAVSGTIDACKDEMGHQGDSKTTQGQNNSSVTGN...</td>\n",
       "    </tr>\n",
       "    <tr>\n",
       "      <th>450</th>\n",
       "      <td>AAA21848.1</td>\n",
       "      <td>k141_7367989</td>\n",
       "      <td>84.925</td>\n",
       "      <td>199</td>\n",
       "      <td>29</td>\n",
       "      <td>1</td>\n",
       "      <td>212</td>\n",
       "      <td>409</td>\n",
       "      <td>599</td>\n",
       "      <td>3</td>\n",
       "      <td>5.490000e-92</td>\n",
       "      <td>287.0</td>\n",
       "      <td>599</td>\n",
       "      <td>TATTCTACGAGCGGATCAACCGTCCAACCATAGATACCGATGTAGT...</td>\n",
       "      <td>-1</td>\n",
       "      <td>ISEHMRQWEKMGMTMGKLYEAKVLGEAGNVNGEVRNGRMDFPHAKV...</td>\n",
       "    </tr>\n",
       "    <tr>\n",
       "      <th>452</th>\n",
       "      <td>AAA21848.1</td>\n",
       "      <td>k141_7411831</td>\n",
       "      <td>87.135</td>\n",
       "      <td>171</td>\n",
       "      <td>21</td>\n",
       "      <td>1</td>\n",
       "      <td>195</td>\n",
       "      <td>364</td>\n",
       "      <td>3</td>\n",
       "      <td>515</td>\n",
       "      <td>9.610000e-75</td>\n",
       "      <td>241.0</td>\n",
       "      <td>515</td>\n",
       "      <td>TCTATCAGTATTTCAGCGTCCGTGACAGGCCGCGTGATTGTGGTAC...</td>\n",
       "      <td>3</td>\n",
       "      <td>YQYFSVRDRPRDCGTINISEHMRQWEKMGMTMGKLYEAKVLGEAGN...</td>\n",
       "    </tr>\n",
       "    <tr>\n",
       "      <th>1014</th>\n",
       "      <td>AAA23287.1</td>\n",
       "      <td>k141_2912295</td>\n",
       "      <td>71.939</td>\n",
       "      <td>196</td>\n",
       "      <td>55</td>\n",
       "      <td>0</td>\n",
       "      <td>55</td>\n",
       "      <td>250</td>\n",
       "      <td>591</td>\n",
       "      <td>4</td>\n",
       "      <td>1.250000e-100</td>\n",
       "      <td>296.0</td>\n",
       "      <td>608</td>\n",
       "      <td>GCTGGCAGAACCACTACTCTGGTAGCCTTCGATATTTAATGCAGCC...</td>\n",
       "      <td>-3</td>\n",
       "      <td>LVPSMTVKAADTIYNNKTGNQDGYDYELWKDTGNTSMTLNAGGTFD...</td>\n",
       "    </tr>\n",
       "    <tr>\n",
       "      <th>1869</th>\n",
       "      <td>AAA85198.1</td>\n",
       "      <td>k141_5257166</td>\n",
       "      <td>75.595</td>\n",
       "      <td>168</td>\n",
       "      <td>40</td>\n",
       "      <td>1</td>\n",
       "      <td>57</td>\n",
       "      <td>223</td>\n",
       "      <td>504</td>\n",
       "      <td>1</td>\n",
       "      <td>4.560000e-89</td>\n",
       "      <td>281.0</td>\n",
       "      <td>567</td>\n",
       "      <td>AAAATGCTTGGATACAGATATAGTTCCCTCCAGCTTTGTACCGCTG...</td>\n",
       "      <td>-1</td>\n",
       "      <td>PTPENSVNVAQETEPAAEALEFTENITDTADGYDYELWKDEGDTLF...</td>\n",
       "    </tr>\n",
       "  </tbody>\n",
       "</table>\n",
       "</div>"
      ],
      "text/plain": [
       "        query id    subject id  % identity  alignment length  mismatches  \\\n",
       "448   AAA21848.1  k141_6776299      86.364               198          26   \n",
       "450   AAA21848.1  k141_7367989      84.925               199          29   \n",
       "452   AAA21848.1  k141_7411831      87.135               171          21   \n",
       "1014  AAA23287.1  k141_2912295      71.939               196          55   \n",
       "1869  AAA85198.1  k141_5257166      75.595               168          40   \n",
       "\n",
       "      gap opens  q. start  q. end  s. start  s. end        e-value  bit score  \\\n",
       "448           1       295     491       594       1  1.450000e-111      338.0   \n",
       "450           1       212     409       599       3   5.490000e-92      287.0   \n",
       "452           1       195     364         3     515   9.610000e-75      241.0   \n",
       "1014          0        55     250       591       4  1.250000e-100      296.0   \n",
       "1869          1        57     223       504       1   4.560000e-89      281.0   \n",
       "\n",
       "      contig_len                                    contig_sequence  frame  \\\n",
       "448          650  ACCCATCTTCATGCCGAGTTCTTCCCACTTCTTGAAGTGAGCAGTG...     -3   \n",
       "450          599  TATTCTACGAGCGGATCAACCGTCCAACCATAGATACCGATGTAGT...     -1   \n",
       "452          515  TCTATCAGTATTTCAGCGTCCGTGACAGGCCGCGTGATTGTGGTAC...      3   \n",
       "1014         608  GCTGGCAGAACCACTACTCTGGTAGCCTTCGATATTTAATGCAGCC...     -3   \n",
       "1869         567  AAAATGCTTGGATACAGATATAGTTCCCTCCAGCTTTGTACCGCTG...     -1   \n",
       "\n",
       "                                    amino_acid_sequence  \n",
       "448   AATAKSSSSKGSAAVSGTIDACKDEMGHQGDSKTTQGQNNSSVTGN...  \n",
       "450   ISEHMRQWEKMGMTMGKLYEAKVLGEAGNVNGEVRNGRMDFPHAKV...  \n",
       "452   YQYFSVRDRPRDCGTINISEHMRQWEKMGMTMGKLYEAKVLGEAGN...  \n",
       "1014  LVPSMTVKAADTIYNNKTGNQDGYDYELWKDTGNTSMTLNAGGTFD...  \n",
       "1869  PTPENSVNVAQETEPAAEALEFTENITDTADGYDYELWKDEGDTLF...  "
      ]
     },
     "execution_count": 30,
     "metadata": {},
     "output_type": "execute_result"
    }
   ],
   "source": [
    "filtered_df.head()"
   ]
  },
  {
   "cell_type": "code",
   "execution_count": 31,
   "id": "4a362d04-9aa1-4c46-adf6-6edb63cd1417",
   "metadata": {},
   "outputs": [
    {
     "name": "stdout",
     "output_type": "stream",
     "text": [
      "(1844, 16)\n"
     ]
    }
   ],
   "source": [
    "print(filtered_df.shape)"
   ]
  },
  {
   "cell_type": "code",
   "execution_count": 32,
   "id": "0149210a-658a-41e5-a46d-4323a3c4221a",
   "metadata": {},
   "outputs": [],
   "source": [
    "filtered_df.to_excel('filtered_output.xlsx', index=False, engine='openpyxl')"
   ]
  },
  {
   "cell_type": "code",
   "execution_count": 33,
   "id": "a48ccc2f-2530-40be-977c-6da1d02dcdf3",
   "metadata": {},
   "outputs": [],
   "source": [
    "def dataframe_to_fasta(df, fasta_filename):\n",
    "    with open(fasta_filename, 'w') as file:\n",
    "        for _, row in df.iterrows():\n",
    "            header = f\">{row['subject id']}\"\n",
    "            sequence = row['amino_acid_sequence']\n",
    "            file.write(f\"{header}\\n{sequence}\\n\")\n"
   ]
  },
  {
   "cell_type": "code",
   "execution_count": 34,
   "id": "d1e120bc-74ca-4475-aabc-dce281535cdf",
   "metadata": {},
   "outputs": [],
   "source": [
    "dataframe_to_fasta(filtered_df, 'filtered_output.fasta')"
   ]
  },
  {
   "cell_type": "markdown",
   "id": "754f0849-2ac2-45b9-aa87-ca8afc9d2189",
   "metadata": {},
   "source": [
    "Before proceeding with further downstream analysis, let’s first examine the distribution of our filtered protein sequences."
   ]
  },
  {
   "cell_type": "code",
   "execution_count": 35,
   "id": "a2f97220-25c7-41ea-9a96-5d963dd70a3d",
   "metadata": {},
   "outputs": [
    {
     "data": {
      "text/plain": [
       "448       216\n",
       "450       199\n",
       "452       171\n",
       "1014      202\n",
       "1869      189\n",
       "         ... \n",
       "374294    174\n",
       "374295    165\n",
       "374296    179\n",
       "374299    167\n",
       "374313    166\n",
       "Name: amino_acid_sequence, Length: 1844, dtype: int64"
      ]
     },
     "execution_count": 35,
     "metadata": {},
     "output_type": "execute_result"
    }
   ],
   "source": [
    "filtered_df['amino_acid_sequence'].str.len()"
   ]
  },
  {
   "cell_type": "code",
   "execution_count": 36,
   "id": "5b8fb351-5cdc-4f5f-8731-7d1b8bf5e73c",
   "metadata": {},
   "outputs": [
    {
     "data": {
      "text/plain": [
       "count    1844.000000\n",
       "mean      184.382321\n",
       "std        71.591851\n",
       "min       100.000000\n",
       "25%       132.000000\n",
       "50%       167.000000\n",
       "75%       211.000000\n",
       "max       642.000000\n",
       "Name: amino_acid_sequence, dtype: float64"
      ]
     },
     "execution_count": 36,
     "metadata": {},
     "output_type": "execute_result"
    }
   ],
   "source": [
    "(filtered_df['amino_acid_sequence'].str.len()).describe()"
   ]
  },
  {
   "cell_type": "code",
   "execution_count": 37,
   "id": "6da177d8-2bbd-4860-81f1-2f6a857816d2",
   "metadata": {},
   "outputs": [
    {
     "data": {
      "text/plain": [
       "<AxesSubplot: >"
      ]
     },
     "execution_count": 37,
     "metadata": {},
     "output_type": "execute_result"
    },
    {
     "data": {
      "image/png": "[encoded data removed]",
      "text/plain": [
       "<Figure size 640x480 with 1 Axes>"
      ]
     },
     "metadata": {},
     "output_type": "display_data"
    }
   ],
   "source": [
    "(filtered_df['amino_acid_sequence'].str.len()).hist(bins=50)"
   ]
  }
 ],
 "metadata": {
  "kernelspec": {
   "display_name": "Python 3 (ipykernel)",
   "language": "python",
   "name": "python3"
  },
  "language_info": {
   "codemirror_mode": {
    "name": "ipython",
    "version": 3
   },
   "file_extension": ".py",
   "mimetype": "text/x-python",
   "name": "python",
   "nbconvert_exporter": "python",
   "pygments_lexer": "ipython3",
   "version": "3.10.0"
  }
 },
 "nbformat": 4,
 "nbformat_minor": 5
}
