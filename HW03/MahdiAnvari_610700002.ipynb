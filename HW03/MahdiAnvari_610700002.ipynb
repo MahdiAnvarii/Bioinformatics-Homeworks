{
 "cells": [
  {
   "cell_type": "code",
   "execution_count": 7,
   "id": "a562dc97-edd4-40b9-9d1d-8463425353d6",
   "metadata": {},
   "outputs": [],
   "source": [
    "# Mahdi Anvari 610700002 \n",
    "# Bioinformatics third homework"
   ]
  },
  {
   "cell_type": "markdown",
   "id": "5ad52390-8a15-4fe8-859f-a623c02380c4",
   "metadata": {},
   "source": [
    "# Questions\n",
    "\n",
    "![Questions](C:/Users/M/Desktop/bh3q1.png)"
   ]
  },
  {
   "cell_type": "code",
   "execution_count": 8,
   "id": "d75d46c8-bb50-4671-a4f8-08c47a9aa878",
   "metadata": {},
   "outputs": [],
   "source": [
    "# 3.7"
   ]
  },
  {
   "cell_type": "markdown",
   "id": "6dcdc29d-9f83-4799-b121-84be14c32517",
   "metadata": {},
   "source": [
    "# Answers\n",
    "\n",
    "![Answer](C:/Users/M/Desktop/bh3a1c2.jpg)\n",
    "![Answer](C:/Users/M/Desktop/bh3a1c3.jpg)\n",
    "![Answer](C:/Users/M/Desktop/bh3a1c4.png)"
   ]
  },
  {
   "cell_type": "code",
   "execution_count": 9,
   "id": "673decd4-ad02-4cde-a515-9a2263da673c",
   "metadata": {},
   "outputs": [],
   "source": [
    "# 3.8"
   ]
  },
  {
   "cell_type": "markdown",
   "id": "9cb8190c-df0e-471f-a46b-02e1547d3852",
   "metadata": {},
   "source": [
    "# Answers\n",
    "\n",
    "![Answer](C:/Users/M/Desktop/bh3a2.jpg)"
   ]
  },
  {
   "cell_type": "code",
   "execution_count": null,
   "id": "6faafbd1-b17e-4153-aeb7-3cb25972ad44",
   "metadata": {},
   "outputs": [],
   "source": []
  }
 ],
 "metadata": {
  "kernelspec": {
   "display_name": "Python 3 (ipykernel)",
   "language": "python",
   "name": "python3"
  },
  "language_info": {
   "codemirror_mode": {
    "name": "ipython",
    "version": 3
   },
   "file_extension": ".py",
   "mimetype": "text/x-python",
   "name": "python",
   "nbconvert_exporter": "python",
   "pygments_lexer": "ipython3",
   "version": "3.10.0"
  }
 },
 "nbformat": 4,
 "nbformat_minor": 5
}
