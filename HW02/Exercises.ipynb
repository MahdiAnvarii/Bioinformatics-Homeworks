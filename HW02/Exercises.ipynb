{
 "cells": [
  {
   "cell_type": "code",
   "execution_count": 1,
   "id": "413c104e-541b-4c6e-8438-ba1cdd8acb63",
   "metadata": {},
   "outputs": [],
   "source": [
    "# Mahdi Anvari 610700002\n",
    "# Bioinformatics second homework"
   ]
  },
  {
   "cell_type": "markdown",
   "id": "9628b107-a03f-4ac1-8228-f1da2567a3f1",
   "metadata": {},
   "source": [
    "# Questions\n",
    "\n",
    "![Questions](C:/Users/M/Desktop/bh2q1.png)"
   ]
  },
  {
   "cell_type": "code",
   "execution_count": null,
   "id": "3f442180-add8-4201-a2a7-76d74e0c53c9",
   "metadata": {},
   "outputs": [],
   "source": [
    "#15.4.1"
   ]
  },
  {
   "cell_type": "markdown",
   "id": "97a56096-2c2f-4e21-856a-137e203c2f32",
   "metadata": {},
   "source": [
    "# Answer\n",
    "\n",
    "![Answer](C:/Users/M/Desktop/bh2a1.jpg)"
   ]
  },
  {
   "cell_type": "code",
   "execution_count": null,
   "id": "e657bb0b-dc8d-43e8-8529-b0f07c4cd3b7",
   "metadata": {},
   "outputs": [],
   "source": [
    "#15.4.2\n",
    "\n",
    "LCS(c,X,Y){\n",
    "m = length(X)\n",
    "n = length(Y)\n",
    "LCS = []\n",
    "i = m\n",
    "j = n\n",
    "\n",
    "while i>0 and j>0\n",
    "    if X[i]==Y[j]\n",
    "        LCS.append(X[i])\n",
    "        i = i - 1\n",
    "        j = j - 1\n",
    "    elif c[i-1][j] > C[i][j-1]\n",
    "        i = i - 1\n",
    "    else\n",
    "        j = j -1\n",
    "\n",
    "Reverse = []\n",
    "for k=len(LCS)-1 to 0\n",
    "    Reverse.append(LCS[k])\n",
    "return Reverse\n",
    "}"
   ]
  },
  {
   "cell_type": "code",
   "execution_count": null,
   "id": "6c674b17-a0bd-4265-b6bb-29a4eb4362b2",
   "metadata": {},
   "outputs": [],
   "source": [
    "#15.4.3\n",
    "\n",
    "MemorizedLCS(X,Y){\n",
    "\n",
    "m = length(X)\n",
    "n = length(Y)\n",
    "memory = table[m+1][n+1] initialized with 0\n",
    "\n",
    "for i=1 to m\n",
    "    for j=1 to n\n",
    "        if X[i]==Y[j]:\n",
    "            memory[i][j] = 1 + memory[i-1][j-1]\n",
    "        else:\n",
    "            memory[i][j] = max(memory[i-1][j] , memory[i][j-1])\n",
    "\n",
    "return memory[m][n]\n",
    "}"
   ]
  }
 ],
 "metadata": {
  "kernelspec": {
   "display_name": "Python 3 (ipykernel)",
   "language": "python",
   "name": "python3"
  },
  "language_info": {
   "codemirror_mode": {
    "name": "ipython",
    "version": 3
   },
   "file_extension": ".py",
   "mimetype": "text/x-python",
   "name": "python",
   "nbconvert_exporter": "python",
   "pygments_lexer": "ipython3",
   "version": "3.10.0"
  }
 },
 "nbformat": 4,
 "nbformat_minor": 5
}
